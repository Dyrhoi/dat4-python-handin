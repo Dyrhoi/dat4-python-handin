{
 "cells": [
  {
   "cell_type": "markdown",
   "source": [
    "# Week 4 handin"
   ],
   "metadata": {}
  },
  {
   "cell_type": "markdown",
   "source": [
    "## 01 Assignment\r\n",
    "1. Open the file './data/befkbhalderstatkode.csv'\r\n",
    "2. Turn the csv file into a numpy ndarray with np.genfromtxt(filename, delimiter=',', dtype=np.uint, skip_header=1)\r\n",
    "3. Using this data:\r\n",
    "\t```json\r\n",
    "\tneighb = {1: 'Indre By', 2: 'Østerbro', 3: 'Nørrebro', 4: 'Vesterbro/Kgs. Enghave', \r\n",
    "\t\t5: 'Valby', 6: 'Vanløse', 7: 'Brønshøj-Husum', 8: 'Bispebjerg', 9: 'Amager Øst', \r\n",
    "\t\t10: 'Amager Vest', 99: 'Udenfor'}\r\n",
    "\t```\r\n",
    "\tFind out how many people lived in each of the 11 areas in 2015  \r\n",
    "4. Make a bar plot to show the size of each city area from the smallest to the largest in 2015  \r\n",
    "5. Create a boolean mask to find out how many people above 65 years lived in Copenhagen in 2015  \r\n",
    "6. How many of those were from the other nordic countries (not dk). Hint: see notebook: \"04 Numpy\"  \r\n",
    "7. Make a line plot showing the changes of number of people in vesterbro and østerbro from 1992 to 2015  \r\n",
    "\r\n",
    "## 02 Status\r\n",
    "I've decided not to make any of the extra assigments.\r\n",
    "\r\n",
    "Anything else in the assignment have been accounted for."
   ],
   "metadata": {}
  },
  {
   "cell_type": "code",
   "execution_count": 83,
   "source": [
    "import numpy\r\n",
    "\r\n",
    "neighb = {1: 'Indre By', 2: 'Østerbro', 3: 'Nørrebro', 4: 'Vesterbro/Kgs. Enghave', \r\n",
    "\t\t5: 'Valby', 6: 'Vanløse', 7: 'Brønshøj-Husum', 8: 'Bispebjerg', 9: 'Amager Øst', \r\n",
    "\t\t10: 'Amager Vest', 99: 'Udenfor'}\r\n",
    "\r\n",
    "data = numpy.genfromtxt(\"./resources/week4/befkbhalderstatkode.csv\", delimiter=\",\", dtype=numpy.uint, skip_header=1)\r\n",
    "\r\n",
    "citizen_city_2015 = {}\r\n",
    "for key in neighb.keys():\r\n",
    "\tmask = (data[:,0] == 2015) & (data[:,1] == key)\r\n",
    "\tcitizen_city_2015[key] = numpy.sum(data[mask][:,4])\r\n",
    "\r\n",
    "\r\n",
    "print(citizen_city_2015)"
   ],
   "outputs": [
    {
     "output_type": "stream",
     "name": "stdout",
     "text": [
      "{1: 51937, 2: 75113, 3: 78802, 4: 61623, 5: 51727, 6: 39537, 7: 43908, 8: 53604, 9: 55205, 10: 64967, 99: 3872}\n"
     ]
    }
   ],
   "metadata": {}
  },
  {
   "cell_type": "code",
   "execution_count": 84,
   "source": [
    "import matplotlib.pyplot as plt\r\n",
    "\r\n",
    "_sorted = dict(sorted(citizen_city_2015.items(), key=lambda item: item[1]))\r\n",
    "\r\n",
    "plt.title(\"Indbyggere i 2015\")\r\n",
    "plt.bar([neighb[city_id] for city_id in _sorted], _sorted.values())\r\n",
    "\r\n",
    "plt.xticks(rotation=\"vertical\")\r\n",
    "plt.ylabel(\"Indbyggere\")\r\n",
    "\r\n",
    "plt.show()"
   ],
   "outputs": [
    {
     "output_type": "display_data",
     "data": {
      "image/png": "[encoded data removed]",
      "text/plain": [
       "<Figure size 432x288 with 1 Axes>"
      ]
     },
     "metadata": {
      "needs_background": "light"
     }
    }
   ],
   "metadata": {}
  },
  {
   "cell_type": "code",
   "execution_count": 85,
   "source": [
    "# Copenhagen I assume means all regions included in neighb\r\n",
    "\r\n",
    "# Probably a better way to do this\r\n",
    "citizen_city_2015_above_65 = {}\r\n",
    "for key in neighb.keys():\r\n",
    "\tmask = (data[:,0] == 2015) & (data[:,1] == key) & (data[:,2] > 65)\r\n",
    "\tcitizen_city_2015_above_65[key] = numpy.sum(data[mask][:,4])\r\n",
    "\r\n",
    "sum_people = sum(citizen_city_2015_above_65.values())\r\n",
    "\r\n",
    "print(sum_people)\r\n"
   ],
   "outputs": [
    {
     "output_type": "stream",
     "name": "stdout",
     "text": [
      "55750\n"
     ]
    }
   ],
   "metadata": {}
  },
  {
   "cell_type": "code",
   "execution_count": 86,
   "source": [
    "# Nordic countries not including Denmark\r\n",
    "# Our needle.\r\n",
    "countries = {5104: \"Finland\", 5105: \"Island\", 5110: 'Norge', 5120: \"Sverige\", 5101: \"Grøndland\"}\r\n",
    "\r\n",
    "nordic_people_2015_above_65 = {}\r\n",
    "\r\n",
    "def sum_people(city, mask):\r\n",
    "\t return data[mask & (data[:,1] == city)][:,4].sum()\r\n",
    "\r\n",
    "\r\n",
    "for country in countries:\r\n",
    "\tcountry_amount = 0\r\n",
    "\r\n",
    "\tfor city in neighb.keys():\r\n",
    "\t\t_mask = (data[:,3] == country) & (data[:,0] == 2015) & (data[:,2] > 65)\r\n",
    "\t\tcountry_amount += sum_people(city, _mask)\r\n",
    "\t\r\n",
    "\tnordic_people_2015_above_65[country] = country_amount\r\n",
    "\r\n",
    "# Is this the correct answer? I don't know... Is it an answer? Yes...\r\n",
    "print(nordic_people_2015_above_65)\r\n",
    "print(sum(nordic_people_2015_above_65.values()))\r\n",
    "\r\n",
    "\r\n"
   ],
   "outputs": [
    {
     "output_type": "stream",
     "name": "stdout",
     "text": [
      "{5104: 72, 5105: 2, 5110: 236, 5120: 267, 5101: 0}\n",
      "577\n"
     ]
    }
   ],
   "metadata": {}
  },
  {
   "cell_type": "code",
   "execution_count": 87,
   "source": [
    "\r\n",
    "# People per year in Vesterbro and Østerbro\r\n",
    "people_per_year = {}\r\n",
    "\r\n",
    "cities = [4,2]\r\n",
    "\r\n",
    "for year in range(1992, 2015):\r\n",
    "\tpeople_amount = 0\r\n",
    "\tfor city in cities:\r\n",
    "\t\t_mask = (data[:,0] == year)\r\n",
    "\t\tpeople_amount += sum_people(city, _mask)\r\n",
    "\r\n",
    "\tpeople_per_year[year] = people_amount\r\n",
    "\r\n",
    "print(people_per_year)"
   ],
   "outputs": [
    {
     "output_type": "stream",
     "name": "stdout",
     "text": [
      "{1992: 110075, 1993: 110172, 1994: 110588, 1995: 111205, 1996: 112237, 1997: 114131, 1998: 115257, 1999: 115815, 2000: 116985, 2001: 117633, 2002: 118059, 2003: 118595, 2004: 118385, 2005: 118314, 2006: 117654, 2007: 118294, 2008: 119430, 2009: 122120, 2010: 125266, 2011: 128088, 2012: 130811, 2013: 132599, 2014: 134849}\n"
     ]
    }
   ],
   "metadata": {}
  },
  {
   "cell_type": "code",
   "execution_count": 90,
   "source": [
    "import matplotlib.pyplot as plt\r\n",
    "\r\n",
    "plt.title(\"Indbyggere per år\")\r\n",
    "plt.plot(people_per_year.keys(), people_per_year.values())\r\n",
    "\r\n",
    "plt.show()"
   ],
   "outputs": [
    {
     "output_type": "display_data",
     "data": {
      "image/png": "[encoded data removed]",
      "text/plain": [
       "<Figure size 432x288 with 1 Axes>"
      ]
     },
     "metadata": {
      "needs_background": "light"
     }
    }
   ],
   "metadata": {}
  }
 ],
 "metadata": {
  "orig_nbformat": 4,
  "language_info": {
   "name": "python",
   "version": "3.9.7",
   "mimetype": "text/x-python",
   "codemirror_mode": {
    "name": "ipython",
    "version": 3
   },
   "pygments_lexer": "ipython3",
   "nbconvert_exporter": "python",
   "file_extension": ".py"
  },
  "kernelspec": {
   "name": "python3",
   "display_name": "Python 3.9.7 64-bit"
  },
  "interpreter": {
   "hash": "d27531109ffe50c98a79457a37c47d73d950d18f588a34ee01188287aa64536e"
  }
 },
 "nbformat": 4,
 "nbformat_minor": 2
}