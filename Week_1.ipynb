{
 "cells": [
  {
   "cell_type": "markdown",
   "source": [
    "# Week 1 handin"
   ],
   "metadata": {}
  },
  {
   "cell_type": "markdown",
   "source": [
    "## 01 Assignment\r\n",
    "1. Create 5 list comprehensions to solve the following 5 problems:\r\n",
    "    1. Iterate a list of names to return a list of the names starting with H\r\n",
    "    2. In one line create a list of the numbers 1-100 to the power of 3\r\n",
    "    3. Iterate a list of names to create a list of tuples where the tuples first value is the length of the name and the second is the name\r\n",
    "    4. Iterate over each character in a string and get only those that are nummeric\r\n",
    "    5. Using only a list comprehension wrapped in set() get all possible combination from throwing 2 dice (hint use 2 for loops in a single list comprehension)\r\n",
    "\r\n",
    "\r\n",
    "2. Create 2 dictionary comprehensions to solve the following:\r\n",
    "    1. Iterate a list of names and create a dictionary where key is the name and value is the length of the name\r\n",
    "    2. Iterate a list of numbers and create a dictionary with {key:value} being {number:squareroot_of_number}\r\n",
    "\r\n",
    "    \r\n",
    "3. Extra assignment (This one goes beyond what is covered in the course notebooks. So only do it if you want an extra challenge).\r\n",
    "    * Progammatically using loops create a small program to produce a dictionary with all the 2 dice throw combinations as keys (eg: 2,3,4...etc) and their likelyhood in percent as values"
   ],
   "metadata": {}
  },
  {
   "cell_type": "markdown",
   "source": [
    "## 02 Status\r\n",
    "Every exercise was completed this week."
   ],
   "metadata": {}
  },
  {
   "cell_type": "markdown",
   "source": [
    "## 03 Solution part 1"
   ],
   "metadata": {}
  },
  {
   "cell_type": "code",
   "execution_count": 7,
   "source": [
    "# 1.A Iterate a list of names to return a list of the names starting with H\r\n",
    "\r\n",
    "names = [\"Martin\", \"Hans\", \"Henrik\", \"Jonas\", \"Simone\", \"Mathias\", \"henry\"]\r\n",
    "\r\n",
    "# Using List Comprehensions, return a new list of names starting with h or H\r\n",
    "names_startswith_h = [name for name in names if name.startswith((\"h\", \"H\"))]\r\n",
    "\r\n",
    "print(names_startswith_h)"
   ],
   "outputs": [
    {
     "output_type": "stream",
     "name": "stdout",
     "text": [
      "['Hans', 'Henrik', 'henry']\n"
     ]
    }
   ],
   "metadata": {}
  },
  {
   "cell_type": "code",
   "execution_count": 11,
   "source": [
    "# 1.B In one line create a list of the numbers 1-100 to the power of 3\r\n",
    "\r\n",
    "# List comprehension can do this for us fairly easy, for each number return it powered by 3\r\n",
    "# Using 101 as range is exclusive\r\n",
    "powered_numbers = [x**3 for x in range(1,101)]\r\n",
    "print(powered_numbers)"
   ],
   "outputs": [
    {
     "output_type": "stream",
     "name": "stdout",
     "text": [
      "[1, 8, 27, 64, 125, 216, 343, 512, 729, 1000, 1331, 1728, 2197, 2744, 3375, 4096, 4913, 5832, 6859, 8000, 9261, 10648, 12167, 13824, 15625, 17576, 19683, 21952, 24389, 27000, 29791, 32768, 35937, 39304, 42875, 46656, 50653, 54872, 59319, 64000, 68921, 74088, 79507, 85184, 91125, 97336, 103823, 110592, 117649, 125000, 132651, 140608, 148877, 157464, 166375, 175616, 185193, 195112, 205379, 216000, 226981, 238328, 250047, 262144, 274625, 287496, 300763, 314432, 328509, 343000, 357911, 373248, 389017, 405224, 421875, 438976, 456533, 474552, 493039, 512000, 531441, 551368, 571787, 592704, 614125, 636056, 658503, 681472, 704969, 729000, 753571, 778688, 804357, 830584, 857375, 884736, 912673, 941192, 970299, 1000000]\n"
     ]
    }
   ],
   "metadata": {}
  },
  {
   "cell_type": "code",
   "execution_count": 12,
   "source": [
    "# 1.C Iterate a list of names to create a list of tuples where the tuples first value is the length of the name and the second is the name\r\n",
    "\r\n",
    "names = [\"Martin\", \"Hans\", \"Henrik\", \"Jonas\", \"Simone\", \"Mathias\", \"Henry\"]\r\n",
    "length_names = [(len(name), name) for name in names]\r\n",
    "\r\n",
    "print(length_names)"
   ],
   "outputs": [
    {
     "output_type": "stream",
     "name": "stdout",
     "text": [
      "[(6, 'Martin'), (4, 'Hans'), (6, 'Henrik'), (5, 'Jonas'), (6, 'Simone'), (7, 'Mathias'), (5, 'Henry')]\n"
     ]
    }
   ],
   "metadata": {}
  },
  {
   "cell_type": "code",
   "execution_count": 15,
   "source": [
    "# 1.D Iterate over each character in a string and get only those that are nummeric\n",
    "\n",
    "characters = \"wagoh2agGg#@111597Awjf52a0\"\n",
    "numbers_from_characters = [c for c in characters if c.isnumeric()]\n",
    "\n",
    "print(numbers_from_characters)"
   ],
   "outputs": [
    {
     "output_type": "stream",
     "name": "stdout",
     "text": [
      "['2', '1', '1', '1', '5', '9', '7', '5', '2', '0']\n"
     ]
    }
   ],
   "metadata": {}
  },
  {
   "cell_type": "code",
   "execution_count": 27,
   "source": [
    "# 1.E Using only a list comprehension wrapped in set() get all possible \n",
    "# combination from throwing 2 dice (hint use 2 for loops in a single list comprehension)\n",
    "\n",
    "outcomes = set([x + y for x in range(1,7) for y in range(1,7)])\n",
    "print(outcomes)"
   ],
   "outputs": [
    {
     "output_type": "stream",
     "name": "stdout",
     "text": [
      "{2, 3, 4, 5, 6, 7, 8, 9, 10, 11, 12}\n"
     ]
    }
   ],
   "metadata": {}
  },
  {
   "cell_type": "markdown",
   "source": [
    "## 04 Solution part 2"
   ],
   "metadata": {}
  },
  {
   "cell_type": "code",
   "execution_count": 29,
   "source": [
    "# 2.A Iterate a list of names and create a dictionary where key is the name and value is the length of the name\n",
    "\n",
    "names = [\"John\", \"Sasha\", \"Conney\", \"Mathilde\"]\n",
    "names_dict = [{name: len(name)} for name in names]\n",
    "\n",
    "print(names_dict)"
   ],
   "outputs": [
    {
     "output_type": "stream",
     "name": "stdout",
     "text": [
      "[{'John': 4}, {'Sasha': 5}, {'Conney': 6}, {'Mathilde': 8}]\n"
     ]
    }
   ],
   "metadata": {}
  },
  {
   "cell_type": "code",
   "execution_count": 32,
   "source": [
    "# 2.B Iterate a list of numbers and create a dictionary with {key:value} being {number:squareroot_of_number}\n",
    "\n",
    "import math\n",
    "\n",
    "numbers = [1, 6, 25, 64, 81, 100]\n",
    "squareroot = [{x: math.sqrt(x)} for x in numbers]\n",
    "print(squareroot)"
   ],
   "outputs": [
    {
     "output_type": "stream",
     "name": "stdout",
     "text": [
      "[{1: 1.0}, {6: 2.449489742783178}, {25: 5.0}, {64: 8.0}, {81: 9.0}, {100: 10.0}]\n"
     ]
    }
   ],
   "metadata": {}
  },
  {
   "cell_type": "markdown",
   "source": [
    "## 05 Solution part 3"
   ],
   "metadata": {}
  },
  {
   "cell_type": "code",
   "execution_count": 40,
   "source": [
    "# 3.A Progammatically using loops create a small program to produce a dictionary with all the 2 dice throw \n",
    "# combinations as keys (eg: 2,3,4...etc) and their likelyhood in percent as values\n",
    "\n",
    "# I came up with a solution using two list comprehensions.\n",
    "\n",
    "outcomes_full = [x + y for x in range(1,7) for y in range(1,7)]\n",
    "percentages_outcomes = [{outcome: round(outcomes_full.count(outcome) / len(outcomes_full) * 100, 2)} for outcome in set(outcomes_full)]\n",
    "\n",
    "print(percentages_outcomes)\n"
   ],
   "outputs": [
    {
     "output_type": "stream",
     "name": "stdout",
     "text": [
      "[{2: 2.78}, {3: 5.56}, {4: 8.33}, {5: 11.11}, {6: 13.89}, {7: 16.67}, {8: 13.89}, {9: 11.11}, {10: 8.33}, {11: 5.56}, {12: 2.78}]\n"
     ]
    }
   ],
   "metadata": {}
  }
 ],
 "metadata": {
  "kernelspec": {
   "name": "python3",
   "display_name": "Python 3.7.6 64-bit ('base': conda)"
  },
  "language_info": {
   "codemirror_mode": {
    "name": "ipython",
    "version": 3
   },
   "file_extension": ".py",
   "mimetype": "text/x-python",
   "name": "python",
   "nbconvert_exporter": "python",
   "pygments_lexer": "ipython3",
   "version": "3.7.6"
  },
  "interpreter": {
   "hash": "98b0a9b7b4eaaa670588a142fd0a9b87eaafe866f1db4228be72b4211d12040f"
  }
 },
 "nbformat": 4,
 "nbformat_minor": 4
}