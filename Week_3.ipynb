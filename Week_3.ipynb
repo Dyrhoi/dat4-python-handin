{
 "cells": [
  {
   "cell_type": "markdown",
   "source": [
    "# Week 3 handin"
   ],
   "metadata": {}
  },
  {
   "cell_type": "markdown",
   "source": [
    "## 01 Assignment\r\n",
    "1. Create 3 classes: Student, DataSheet and Course\r\n",
    "2. A student has a data_sheet and a data_sheet has multiple courses in particular order\r\n",
    "3. Each course has name, classroom, teacher, ETCS and optional grade if course is taken.\r\n",
    "4. In Student create init() so that a Student can be initiated with name, gender, data_sheet and image_url\r\n",
    "5. In DataSheet create a method to get_grades_as_list()\r\n",
    "6. In student create a method: get_avg_grade()\r\n",
    "7. Create a function that can generate n number of students with random: name, gender, courses (from a fixed list of course names), grades, img_url\r\n",
    "    1. Let the function write the result to a csv file with format stud_name, course_name, teacher, ,gender, ects, classroom, grade, img_url\r\n",
    "8. Read student data into a list of Students from a csv file (Each student can appear on multiple lines):\r\n",
    "    1. loop through the list and print each student with name, img_url and avg_grade.\r\n",
    "    2. sort the list by avg_grade\r\n",
    "    3. create a bar chart with student_name on x and avg_grade on y-axis\r\n",
    "9. Make a method on Student class that can show progression of the study in % (add up ECTS from all passed courses divided by total of 150 total points (equivalent to 5 semesters))\r\n",
    "10. Show a bar chart of distribution of study progression on x-axis and number of students in each category on y-axis. (e.g. make 10 categories from 0-100%)  \r\n",
    "\r\n",
    "Extra: Make the Datasheet class iterable so that next(data_sheet) will return the next course in the list\r\n",
    "\r\n",
    "## 02 Status\r\n",
    "I've decided not to make any of the extra assigments.\r\n",
    "\r\n",
    "I feel as a lot of these assignments are left to be interpreted, which leaves room for error.  \r\n",
    "One such case could be 7.A (7.1), what if a student has multiple courses, how would this be written into a CSV format?  \r\n",
    "I feel that spending more time to figure out *what* the assignment wants you to do compared to actually coding it, is quite tedious.  \r\n",
    "\r\n",
    "**Therefore I've decided not read from the CSV file and also only write the \"student\" information to the csv file to show a proof of concept.**  \r\n",
    "Anything else in the assignment have been accounted for."
   ],
   "metadata": {}
  },
  {
   "cell_type": "code",
   "execution_count": 20,
   "source": [
    "import statistics\r\n",
    "import random\r\n",
    "\r\n",
    "import csv\r\n",
    "\r\n",
    "class Student():\r\n",
    "    def __init__(self, name, gender, data_sheet, image_url):\r\n",
    "        self.name = name\r\n",
    "        self.gender = gender\r\n",
    "        self.data_sheet = data_sheet\r\n",
    "        self.image_url = image_url\r\n",
    "\r\n",
    "    def get_average_grade(self):\r\n",
    "        return statistics.mean(self.data_sheet.get_grades_as_list())\r\n",
    "\r\n",
    "    def get_progression(self):\r\n",
    "        ECTS_MAX = 150\r\n",
    "        ECTS_POINT_PER_SEMESTER = 30\r\n",
    "        passed_courses = [grade for grade in self.data_sheet.get_grades_as_list() if grade > 0]\r\n",
    "        return (ECTS_POINT_PER_SEMESTER * len(passed_courses)) / ECTS_MAX \r\n",
    "\r\n",
    "\r\n",
    "    def __str__(self):\r\n",
    "        return f\"name={self.name}, gender={self.gender}, image_url={self.image_url}, data_sheet={self.data_sheet} average_grade={self.get_average_grade()}, progression={self.get_progression()}\"\r\n",
    "\r\n",
    "    #Used for CSV Writer\r\n",
    "    def __iter__(self):\r\n",
    "        return iter([self.name, self.gender, self.image_url])\r\n",
    "\r\n",
    "\r\n",
    "class DataSheet():\r\n",
    "    def __init__(self, courses):\r\n",
    "        self.courses = courses\r\n",
    "\r\n",
    "    def get_grades_as_list(self):\r\n",
    "        return [course[1] for course in self.courses]\r\n",
    "\r\n",
    "    def __str__(self):\r\n",
    "        string = \"\"\r\n",
    "        for course in self.courses:\r\n",
    "            string += f\"{{{course[0]}, grade={course[1]}}}, \"\r\n",
    "        return string\r\n",
    "\r\n",
    "class Course():\r\n",
    "    def __init__(self, name, classroom, teacher, ects):\r\n",
    "        self.name = name\r\n",
    "        self.classroom = classroom\r\n",
    "        self.teacher = teacher\r\n",
    "        self.ects = ects\r\n",
    "    \r\n",
    "    def __str__(self):\r\n",
    "        return f\"name={self.name}, classroom={self.classroom}, teacher={self.teacher}, ects={self.ects}\"\r\n",
    "\r\n",
    "courses = [[Course(\"Spanish\", \"M-105\", \"Andrez Ipsum\", 15), 12], [Course(\"English\", \"M-106\", \"Marie Ipsum\", 15), 7]]\r\n",
    "\r\n",
    "data_sheet = DataSheet(courses)\r\n",
    "student = Student(\"Revus Ipsum\", \"male\", data_sheet, \"https://i1.sndcdn.com/avatars-ylM4tanwBXJZhjWb-X76mWw-t500x500.jpg\")\r\n",
    "\r\n",
    "\r\n",
    "data_sheet.get_grades_as_list()\r\n",
    "student.get_average_grade()\r\n",
    "\r\n",
    "\r\n",
    "def generate_students(amount=1):\r\n",
    "    students = []\r\n",
    "\r\n",
    "    courses = [Course(\"Spanish\", \"M-105\", \"Andrez Ipsum\", 15), Course(\"English\", \"M-106\", \"Marie Ipsum\", 15)]\r\n",
    "\r\n",
    "    # No negative grades for simplicity...\r\n",
    "    grades = [0, 2, 4, 7, 10, 12]\r\n",
    "\r\n",
    "    firstnames = [\"Niles\", \"Jupiter\", \"Mogens\", \"Pluto\", \"Ligma\", \"Figma\", \"Ninja\", \"Louise\"]\r\n",
    "    lastnames = [\"Andersen\", \"Jørgensen\", \"Madsen\", \"Sørensen\", \"Christensen\", \"Dahlsen\"]\r\n",
    "    genders = [\"male\", \"female\"]\r\n",
    "    avatars = [\"https://i1.sndcdn.com/avatars-ylM4tanwBXJZhjWb-X76mWw-t500x500.jpg\"]\r\n",
    "\r\n",
    "    for _ in range(amount):\r\n",
    "        name = random.choice(firstnames) + \" \" + random.choice(lastnames)\r\n",
    "        gender = random.choice(genders)\r\n",
    "        avatar = random.choice(avatars)\r\n",
    "\r\n",
    "        # Requires there to be at least 1 course in predefined courses list.\r\n",
    "        # Will pick a random sample of x amount of courses and add them with a random grade to a list.\r\n",
    "        _courses = random.sample(courses, random.randint(1, len(courses)))\r\n",
    "        _courses = [[course, random.choice(grades)] for course in _courses]\r\n",
    "\r\n",
    "        students.append(Student(name, gender, DataSheet(_courses), avatar))\r\n",
    "\r\n",
    "    return students\r\n",
    "\r\n",
    "# I feel like this part of the exercise is left rather unambiguous.\r\n",
    "# What if the student is assigned to multiple courses?\r\n",
    "def write_students_to_csv(students):\r\n",
    "    with open(\"resources/week3/students.csv\", \"w\") as file:\r\n",
    "        write = csv.writer(file)\r\n",
    "        for student in students:\r\n",
    "            write.writerow(list(student))\r\n",
    "        print(\"Successfully wrote to file, \" + file.name)\r\n",
    "\r\n",
    "\r\n",
    "students = generate_students(5)\r\n",
    "write_students_to_csv(students)\r\n",
    "\r\n",
    "students.sort(key=lambda student: student.get_average_grade(), reverse=True)\r\n",
    "\r\n",
    "for student in students:\r\n",
    "    print(student)\r\n",
    "\r\n",
    "\r\n",
    "\r\n",
    "\r\n"
   ],
   "outputs": [
    {
     "output_type": "stream",
     "name": "stdout",
     "text": [
      "Successfully wrote to file, resources/week3/students.csv\n",
      "name=Figma Jørgensen, gender=female, image_url=https://i1.sndcdn.com/avatars-ylM4tanwBXJZhjWb-X76mWw-t500x500.jpg, data_sheet={name=Spanish, classroom=M-105, teacher=Andrez Ipsum, ects=15, grade=7},  average_grade=7, progression=0.2\n",
      "name=Figma Jørgensen, gender=male, image_url=https://i1.sndcdn.com/avatars-ylM4tanwBXJZhjWb-X76mWw-t500x500.jpg, data_sheet={name=English, classroom=M-106, teacher=Marie Ipsum, ects=15, grade=2}, {name=Spanish, classroom=M-105, teacher=Andrez Ipsum, ects=15, grade=12},  average_grade=7, progression=0.4\n",
      "name=Louise Jørgensen, gender=female, image_url=https://i1.sndcdn.com/avatars-ylM4tanwBXJZhjWb-X76mWw-t500x500.jpg, data_sheet={name=Spanish, classroom=M-105, teacher=Andrez Ipsum, ects=15, grade=2}, {name=English, classroom=M-106, teacher=Marie Ipsum, ects=15, grade=7},  average_grade=4.5, progression=0.4\n",
      "name=Pluto Madsen, gender=female, image_url=https://i1.sndcdn.com/avatars-ylM4tanwBXJZhjWb-X76mWw-t500x500.jpg, data_sheet={name=English, classroom=M-106, teacher=Marie Ipsum, ects=15, grade=0}, {name=Spanish, classroom=M-105, teacher=Andrez Ipsum, ects=15, grade=4},  average_grade=2, progression=0.2\n",
      "name=Figma Jørgensen, gender=male, image_url=https://i1.sndcdn.com/avatars-ylM4tanwBXJZhjWb-X76mWw-t500x500.jpg, data_sheet={name=English, classroom=M-106, teacher=Marie Ipsum, ects=15, grade=0},  average_grade=0, progression=0.0\n"
     ]
    }
   ],
   "metadata": {}
  },
  {
   "cell_type": "code",
   "execution_count": 15,
   "source": [
    "import matplotlib.pyplot as plt\r\n",
    "\r\n",
    "x = [student.name for student in students]\r\n",
    "y = [student.get_average_grade() for student in students]\r\n",
    "\r\n",
    "plt.title(\"Average grade by student\")\r\n",
    "plt.ylabel(\"Grade\")\r\n",
    "\r\n",
    "plt.bar(x, y)\r\n",
    "plt.show()"
   ],
   "outputs": [
    {
     "output_type": "display_data",
     "data": {
      "image/png": "[encoded data removed]",
      "text/plain": [
       "<Figure size 432x288 with 1 Axes>"
      ]
     },
     "metadata": {
      "needs_background": "light"
     }
    }
   ],
   "metadata": {}
  },
  {
   "cell_type": "code",
   "execution_count": 33,
   "source": [
    "import matplotlib.pyplot as plt\r\n",
    "\r\n",
    "# NOTE: Progress bars are split into percentage, while get_progression() returns the float value\r\n",
    "progress = {0: 0, 10: 0, 20: 0, 30: 0, 40: 0, 50: 0, 60: 0, 70: 0, 80: 0, 90: 0, 100: 0}\r\n",
    "\r\n",
    "# Very botched method to do this (?)\r\n",
    "for key in progress.keys():\r\n",
    "\tfor student in students:\r\n",
    "\t\tstudent_progress = student.get_progression() * 100\r\n",
    "\r\n",
    "\t\tif student_progress >= key and student_progress < (key + 10):\r\n",
    "\r\n",
    "\t\t\tprogress[key] = progress[key] + 1\r\n",
    "\t\r\n",
    "print(progress)\r\n",
    "plt.title(\"ECTS Progress By Students\")\r\n",
    "plt.ylabel(\"Amount of students\")\r\n",
    "plt.xlabel(\"Progress\")\r\n",
    "\r\n",
    "plt.bar(list(map(lambda x: str(x) + \"%\" ,progress.keys())), progress.values())\r\n",
    "plt.show()"
   ],
   "outputs": [
    {
     "output_type": "stream",
     "name": "stdout",
     "text": [
      "{0: 1, 10: 0, 20: 2, 30: 0, 40: 2, 50: 0, 60: 0, 70: 0, 80: 0, 90: 0, 100: 0}\n"
     ]
    },
    {
     "output_type": "display_data",
     "data": {
      "image/png": "[encoded data removed]",
      "text/plain": [
       "<Figure size 432x288 with 1 Axes>"
      ]
     },
     "metadata": {
      "needs_background": "light"
     }
    }
   ],
   "metadata": {}
  }
 ],
 "metadata": {
  "orig_nbformat": 4,
  "language_info": {
   "name": "python",
   "version": "3.9.7",
   "mimetype": "text/x-python",
   "codemirror_mode": {
    "name": "ipython",
    "version": 3
   },
   "pygments_lexer": "ipython3",
   "nbconvert_exporter": "python",
   "file_extension": ".py"
  },
  "kernelspec": {
   "name": "python3",
   "display_name": "Python 3.9.7 64-bit"
  },
  "interpreter": {
   "hash": "d27531109ffe50c98a79457a37c47d73d950d18f588a34ee01188287aa64536e"
  }
 },
 "nbformat": 4,
 "nbformat_minor": 2
}