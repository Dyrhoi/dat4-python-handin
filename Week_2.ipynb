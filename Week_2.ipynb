{
 "cells": [
  {
   "cell_type": "markdown",
   "source": [
    "# Week 2 handin"
   ],
   "metadata": {}
  },
  {
   "cell_type": "markdown",
   "source": [
    "## 01 Assignment\r\n",
    "### Part 1\r\n",
    "1. Create a python file with 3 functions:\r\n",
    "    1. def print_file_content(file) that can print content of a csv file to the console\r\n",
    "    2. def write_list_to_file(output_file, lst) that can take a list or tuple of strings and write each element to a new line in file\r\n",
    "        1. rewrite the function so that it gets an arbitrary number of strings instead of a list\r\n",
    "    3. def read_csv(input_file) that take a csv file and read each row into a list. Print the list.\r\n",
    "  \r\n",
    "  \r\n",
    "2. Add a functionality so that the file can be called from cli with 2 arguments:\r\n",
    "    1. path to csv file\r\n",
    "    2. an argument --file file_name that if given will write the content to file_name or otherwise will print it to the console.\r\n",
    "\r\n",
    "    \r\n",
    "3. Add a --help cli argument to describe how the module is used\r\n",
    "\r\n",
    "### Part 2\r\n",
    "Create a module called utils.py with the following 5 functions:"
   ],
   "metadata": {}
  },
  {
   "cell_type": "code",
   "execution_count": null,
   "source": [
    "def get_file_names(folderpath,out=output.txt):\r\n",
    "    \"\"\" takes a path to a folder and writes all filenames in the folder to a specified output file\"\"\"\r\n",
    "\r\n",
    "def get_all_file_names(folderpath,out=output.txt):\r\n",
    "    \"\"\"takes a path to a folder and write all filenames recursively (files of all sub folders to)\"\"\"\r\n",
    "\r\n",
    "def print_line_one(file_names):\r\n",
    "    \"\"\"takes a list of filenames and print the first line of each\"\"\"\r\n",
    "\r\n",
    "def print_emails(file_names):\r\n",
    "    \"\"\"takes a list of filenames and print each line that contains an email (just look for @)\"\"\"\r\n",
    "\r\n",
    "def write_headlines(md_files, out=output.txt):\r\n",
    "    \"\"\"takes a list of md files and writes all headlines (lines starting with #) to a file\"\"\""
   ],
   "outputs": [],
   "metadata": {}
  },
  {
   "cell_type": "code",
   "execution_count": 3,
   "source": [
    "# 1.A def print_file_content(file) that can print content of a csv file to the console\r\n",
    "\r\n",
    "def print_file_content(file):\r\n",
    "    with open(file) as file:\r\n",
    "        print(file.read())\r\n",
    "\r\n",
    "print_file_content(\"resources/week2/dogs.csv\")"
   ],
   "outputs": [
    {
     "output_type": "stream",
     "name": "stdout",
     "text": [
      "ID,Name,Age,Breed\n",
      "1,Balto,5,Bulldog\n",
      "2,Betty,6,Poodle\n",
      "3,Mally,2,Pug\n",
      "4,Buddy, 5, German Shepherd \n"
     ]
    }
   ],
   "metadata": {}
  },
  {
   "cell_type": "code",
   "execution_count": 5,
   "source": [
    "# 1.B def write_list_to_file(output_file, lst) that can take a list or tuple of strings and write each element to a new line in file\r\n",
    "\r\n",
    "def write_list_to_file(output_file, lst):\r\n",
    "    with open(output_file, \"w\") as file:\r\n",
    "        for element in lst:\r\n",
    "            file.write(element + \"\\n\")\r\n",
    "\r\n",
    "myList = [\"Denmark\", \"Germany\", \"Sweden\"]\r\n",
    "\r\n",
    "write_list_to_file(\"resources/week2/countries.txt\", myList)"
   ],
   "outputs": [],
   "metadata": {}
  },
  {
   "cell_type": "code",
   "execution_count": 7,
   "source": [
    "# 1.B.AA rewrite the function so that it gets an arbitrary number of strings instead of a list\r\n",
    "\r\n",
    "def write_strings_to_file(output_file, *strings):\r\n",
    "    with open(output_file, \"w\") as file:\r\n",
    "        for element in strings:\r\n",
    "            file.write(element + \"\\n\")\r\n",
    "\r\n",
    "write_strings_to_file(\"resources/week2/countries.txt\", \"Denmark\", \"Germany\", \"Sweden\")"
   ],
   "outputs": [],
   "metadata": {}
  },
  {
   "cell_type": "code",
   "execution_count": 1,
   "source": [
    "#1.C def read_csv(input_file) that take a csv file and read each row into a list. Print the list.\r\n",
    "def read_csv(file, delimiter=\",\"):\r\n",
    "    lst = []\r\n",
    "    with open(file) as file:\r\n",
    "        for line in file:\r\n",
    "            lst.append(line.rstrip().split(delimiter))\r\n",
    "    return lst\r\n",
    "\r\n",
    "print(read_csv(\"resources/week2/dogs.csv\"))"
   ],
   "outputs": [
    {
     "output_type": "stream",
     "name": "stdout",
     "text": [
      "[['ID', 'Name', 'Age', 'Breed'], ['1', 'Balto', '5', 'Bulldog'], ['2', 'Betty', '6', 'Poodle'], ['3', 'Mally', '2', 'Pug'], ['4', 'Buddy', ' 5', ' German Shepherd']]\n"
     ]
    }
   ],
   "metadata": {}
  },
  {
   "cell_type": "markdown",
   "source": [
    "## Excercise 1.B and 1.C\r\n",
    "utils.py, which is also used for Part 2 can be ran as a cli."
   ],
   "metadata": {}
  },
  {
   "cell_type": "code",
   "execution_count": 2,
   "source": [
    "# Test of utils module.\r\n",
    "import modules.utils as utils\r\n",
    "\r\n",
    "utils.get_file_names(\"resources/week2\")\r\n",
    "\r\n",
    "utils.get_all_file_names(\"resources\", \"resources/week2/output2.txt\")\r\n",
    "\r\n",
    "files = [\"resources/week2/output.txt\", \"resources/week2/output2.txt\"]\r\n",
    "utils.print_line_one(files)\r\n",
    "\r\n",
    "files = [\"resources/week2/emails.txt\", \"resources/week2/emails_2.txt\"]\r\n",
    "utils.print_emails(files)\r\n",
    "\r\n",
    "files = [\"resources/week2/a_simple_md.md\"]\r\n",
    "utils.write_headlines(files, \"resources/week2/output3.txt\")"
   ],
   "outputs": [
    {
     "output_type": "stream",
     "name": "stdout",
     "text": [
      "Successfully wrote to file, resources/week2/output.txt\n",
      "Successfully wrote to file, resources/week2/output2.txt\n",
      "['a_simple_md.md', 'resources\\\\week2\\\\a_simple_md.md']\n",
      "['hello@dyrhoi.com', 'det fedt at snakke med tuborg@tuborg.dk', 'ligma@nuts.com yeeee']\n",
      "Successfully wrote to file, resources/week2/output3.txt\n"
     ]
    }
   ],
   "metadata": {}
  }
 ],
 "metadata": {
  "orig_nbformat": 4,
  "language_info": {
   "name": "python",
   "version": "3.9.5",
   "mimetype": "text/x-python",
   "codemirror_mode": {
    "name": "ipython",
    "version": 3
   },
   "pygments_lexer": "ipython3",
   "nbconvert_exporter": "python",
   "file_extension": ".py"
  },
  "kernelspec": {
   "name": "python3",
   "display_name": "Python 3.9.5 64-bit"
  },
  "interpreter": {
   "hash": "d27531109ffe50c98a79457a37c47d73d950d18f588a34ee01188287aa64536e"
  }
 },
 "nbformat": 4,
 "nbformat_minor": 2
}